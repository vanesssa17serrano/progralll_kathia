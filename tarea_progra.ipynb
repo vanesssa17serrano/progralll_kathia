{
  "nbformat": 4,
  "nbformat_minor": 0,
  "metadata": {
    "colab": {
      "provenance": [],
      "authorship_tag": "ABX9TyPcgU1hpzwYzFd3G7uljro8",
      "include_colab_link": true
    },
    "kernelspec": {
      "name": "python3",
      "display_name": "Python 3"
    },
    "language_info": {
      "name": "python"
    }
  },
  "cells": [
    {
      "cell_type": "markdown",
      "metadata": {
        "id": "view-in-github",
        "colab_type": "text"
      },
      "source": [
        "<a href=\"https://colab.research.google.com/github/vanesssa17serrano/progralll_kathia/blob/main/tarea_progra.ipynb\" target=\"_parent\"><img src=\"https://colab.research.google.com/assets/colab-badge.svg\" alt=\"Open In Colab\"/></a>"
      ]
    },
    {
      "cell_type": "markdown",
      "source": [
        "Declaracion de variables"
      ],
      "metadata": {
        "id": "ATGVM3HXy0cY"
      }
    },
    {
      "cell_type": "code",
      "source": [
        "saludo=\"Hola mundo\"\n",
        "print(saludo)\n"
      ],
      "metadata": {
        "colab": {
          "base_uri": "https://localhost:8080/"
        },
        "id": "WPXzS-FY04ck",
        "outputId": "6111ea11-2f79-4fb2-a130-4df66263bce5"
      },
      "execution_count": null,
      "outputs": [
        {
          "output_type": "stream",
          "name": "stdout",
          "text": [
            "Hola mundo\n"
          ]
        }
      ]
    },
    {
      "cell_type": "code",
      "source": [
        "num1=float(input(\"ingrese un numero\"))\n",
        "num2=float(input(\"ingrese otro numero \"))\n",
        "resp=num1-num2\n",
        "print(\"La resta de \",num1,\"-\",num2,\"=\",resp)"
      ],
      "metadata": {
        "id": "-x1jS0lM1Wo7"
      },
      "execution_count": null,
      "outputs": []
    },
    {
      "cell_type": "code",
      "source": [
        "name=\"Kathia Serrano\"\n",
        "edad=20\n",
        "Saludo =\"Hola\"+name+\",tu edad \"+str(edad)\n",
        "print(Saludo)"
      ],
      "metadata": {
        "id": "CwY1Apxa2lGH"
      },
      "execution_count": null,
      "outputs": []
    },
    {
      "cell_type": "code",
      "source": [
        "nombre=input(\"Dime tu nombre:\")\n",
        "edad=input(\"Tu edad:\")\n",
        "saludo=(\"Hola que tal\"+nombre+\",tu edad:\"+edad)\n",
        "print(saludo)"
      ],
      "metadata": {
        "id": "N9Zfy_W33-I9"
      },
      "execution_count": null,
      "outputs": []
    },
    {
      "cell_type": "markdown",
      "source": [
        "practica 2"
      ],
      "metadata": {
        "id": "MVJhKSo443vk"
      }
    },
    {
      "cell_type": "markdown",
      "source": [
        "Funciones de usuario"
      ],
      "metadata": {
        "id": "WNfa8dX349P_"
      }
    },
    {
      "cell_type": "markdown",
      "source": [
        "Convertir de grados celsius a farenheit"
      ],
      "metadata": {
        "id": "J9BMRwED5KCL"
      }
    },
    {
      "cell_type": "code",
      "source": [
        "def convertir(r):\n",
        "  return 32+c*9/5\n",
        "  #Funcion que se encarga de convertir"
      ],
      "metadata": {
        "id": "UATHmC_F5XUI"
      },
      "execution_count": null,
      "outputs": []
    },
    {
      "cell_type": "code",
      "source": [
        "c=float(input(\"Celsius:\"))\n",
        "print(\"F:\",convertir(c))"
      ],
      "metadata": {
        "id": "mETuUsSO5-Qr"
      },
      "execution_count": null,
      "outputs": []
    },
    {
      "cell_type": "markdown",
      "source": [
        "Convertir farentheit a celsius"
      ],
      "metadata": {
        "id": "UBZXp2Nx6vI6"
      }
    },
    {
      "cell_type": "code",
      "source": [
        "def convertir(r):\n",
        "  return(r-32)*5/9\n",
        "  #funcion que se encarga de convertir"
      ],
      "metadata": {
        "id": "WQBpXtkA7CZ-"
      },
      "execution_count": null,
      "outputs": []
    },
    {
      "cell_type": "code",
      "source": [
        "r=float(input(\"Farenheit:\"))\n",
        "print(\"c:\"convertirf(r))"
      ],
      "metadata": {
        "id": "Mbf9eyby7pHX"
      },
      "execution_count": null,
      "outputs": []
    },
    {
      "cell_type": "markdown",
      "source": [
        "Convertir Celsius a farenheit"
      ],
      "metadata": {
        "id": "5s09u-so8eFa"
      }
    },
    {
      "cell_type": "code",
      "source": [
        "def convertirk(k):\n",
        "  return k + 273.15\n",
        "  #funcion que se encarga de convertir"
      ],
      "metadata": {
        "id": "3RsylHk78twT"
      },
      "execution_count": null,
      "outputs": []
    },
    {
      "cell_type": "code",
      "source": [
        "k=float(input(\"Celsius:\"))\n",
        "print(\"K:\",convertirk(k))"
      ],
      "metadata": {
        "id": "pCosCzbXBfAn"
      },
      "execution_count": null,
      "outputs": []
    },
    {
      "cell_type": "markdown",
      "source": [
        "Calcular el sueldo mensual de un empleado (mi versionn)"
      ],
      "metadata": {
        "id": "a8O_Tkw_B4uD"
      }
    },
    {
      "cell_type": "code",
      "source": [
        "def sueldo(numHrs,valorXhr):\n",
        "  sueldo=numHrs*valorXhr*30\n",
        "  impisss=sueldo*0.30\n",
        "  impafp=sueldo*0.0625\n",
        "  if(numHrs>8):\n",
        "  sueldo +=(numHrs-8)*valorXhr+2*30\n",
        "  returns sueldo-impisss-impafp"
      ],
      "metadata": {
        "id": "yF4WMWMBCG7M"
      },
      "execution_count": null,
      "outputs": []
    },
    {
      "cell_type": "code",
      "source": [
        "valorXhr=4\n",
        "numHrs=float(input(\"Horas trabajadas:\"))\n",
        "print(\"Sueldo:\",sueldo (numHrs, valorXhr))"
      ],
      "metadata": {
        "id": "p2HbQS74EtDD"
      },
      "execution_count": null,
      "outputs": []
    },
    {
      "cell_type": "markdown",
      "source": [
        "Calcular el sueldo mensusal de un empleado"
      ],
      "metadata": {
        "id": "ZyIkceWtF0ez"
      }
    },
    {
      "cell_type": "code",
      "source": [
        "def sueldo(numHrs, valorXhr):\n",
        "  sueldo=numHrs*valorXhr*30\n",
        "  impisss=sueldo *0.30\n",
        "  impafp=sueldo *0.0625\n",
        "  if(numHrs>8):\n",
        "  sueldo +=(numHrs-8)*valorXhr*2*30\n",
        "  sueldo =sueldo*0.9075\n",
        "  return sueldo-impisss-impafp\n"
      ],
      "metadata": {
        "id": "DvekukRkGBem"
      },
      "execution_count": null,
      "outputs": []
    },
    {
      "cell_type": "code",
      "source": [
        "valorXhr=4\n",
        "numHrs=float(input(\"Horas trabajadas: \"))\n",
        "print(\"Sueldo\", sueldo(numHrs,valorXhr))"
      ],
      "metadata": {
        "id": "KeD0GWa_IKxJ"
      },
      "execution_count": null,
      "outputs": []
    },
    {
      "cell_type": "markdown",
      "source": [
        "Practica 3"
      ],
      "metadata": {
        "id": "c4S139-GI9s7"
      }
    },
    {
      "cell_type": "markdown",
      "source": [
        "Listas"
      ],
      "metadata": {
        "id": "W1wUUP0fWMRR"
      }
    },
    {
      "cell_type": "code",
      "source": [
        "data=[2,5,6,8,9]"
      ],
      "metadata": {
        "id": "JXnyjN63WPyF"
      },
      "execution_count": null,
      "outputs": []
    },
    {
      "cell_type": "code",
      "source": [
        "resp=map(lambda n:n**3, data)\n",
        "print(list(resp))"
      ],
      "metadata": {
        "id": "kXU8IkY-WY_A"
      },
      "execution_count": null,
      "outputs": []
    },
    {
      "cell_type": "markdown",
      "source": [
        "Ejercicio"
      ],
      "metadata": {
        "id": "AHMRtfNJWzmU"
      }
    },
    {
      "cell_type": "markdown",
      "source": [
        "Convertir farenheit a celsius"
      ],
      "metadata": {
        "id": "Q3x2i7MlW297"
      }
    },
    {
      "cell_type": "code",
      "source": [
        "resp=map(lambda n:n*9/5+32, data)\n",
        "print(list(resp))"
      ],
      "metadata": {
        "id": "Zpp1LibSXBjQ"
      },
      "execution_count": null,
      "outputs": []
    },
    {
      "cell_type": "markdown",
      "source": [
        "Ejercio"
      ],
      "metadata": {
        "id": "pmDamcnLXooJ"
      }
    },
    {
      "cell_type": "markdown",
      "source": [
        "Filtrar numeros pares con filter"
      ],
      "metadata": {
        "id": "QklAaaLdX1n4"
      }
    },
    {
      "cell_type": "code",
      "source": [
        "filtro=filter(lambda n:n%2==0,data)\n",
        "print(list(filtro))"
      ],
      "metadata": {
        "id": "vKIxMrqkYVC4"
      },
      "execution_count": null,
      "outputs": []
    },
    {
      "cell_type": "markdown",
      "source": [
        "Ejercio"
      ],
      "metadata": {
        "id": "4RCG-n8cY4y-"
      }
    },
    {
      "cell_type": "markdown",
      "source": [
        "Filtrar numeros impares con filter"
      ],
      "metadata": {
        "id": "pEF7MzqwY6zC"
      }
    },
    {
      "cell_type": "code",
      "source": [
        "impares=filter(lambda n:n%2!=0,data)\n",
        "print(list(impares))"
      ],
      "metadata": {
        "id": "u5jgyebWZCMz"
      },
      "execution_count": null,
      "outputs": []
    },
    {
      "cell_type": "markdown",
      "source": [
        "Ciclos"
      ],
      "metadata": {
        "id": "KIVYdwMDbFco"
      }
    },
    {
      "cell_type": "markdown",
      "source": [
        "For"
      ],
      "metadata": {
        "id": "9gxeo3cRbH5E"
      }
    },
    {
      "cell_type": "code",
      "source": [
        "for item in data:\n",
        "  print(item)"
      ],
      "metadata": {
        "id": "uLXOj5WCbNWD"
      },
      "execution_count": null,
      "outputs": []
    },
    {
      "cell_type": "markdown",
      "source": [
        "While"
      ],
      "metadata": {
        "id": "jIDPKknWbaed"
      }
    },
    {
      "cell_type": "code",
      "source": [
        "i=0\n",
        "n=len(data)\n",
        "while i<n:\n",
        "  print(data[i])\n",
        "  i+=1"
      ],
      "metadata": {
        "id": "cnoftwp1beEN"
      },
      "execution_count": null,
      "outputs": []
    },
    {
      "cell_type": "markdown",
      "source": [
        "Ejercicio"
      ],
      "metadata": {
        "id": "Ubrqx-yMb3kB"
      }
    },
    {
      "cell_type": "markdown",
      "source": [
        "tabla de multiplicar"
      ],
      "metadata": {
        "id": "sd2cCUTub84c"
      }
    },
    {
      "cell_type": "code",
      "source": [
        "n=int(input(\"N tabla:\"))\n",
        "for i in range(1,11):\n",
        "  print (n,\"X\",i,\"=\",n*i)"
      ],
      "metadata": {
        "id": "xBbIQpcvcAHl"
      },
      "execution_count": null,
      "outputs": []
    },
    {
      "cell_type": "markdown",
      "source": [
        "Ejercicio de impuestos sobre renta"
      ],
      "metadata": {
        "id": "OiwieZSbdG1c"
      }
    },
    {
      "cell_type": "code",
      "source": [
        "def sueldo (numHrs,valorXhr):\n",
        "  sueldo=numHrs*valorXhr*30\n",
        "  if(numHrs>8):\n",
        "    sueldo +=(numHrs-8)*valorXhr*2*30\n",
        "    return  sueldo"
      ],
      "metadata": {
        "id": "GSaw47PldOIy"
      },
      "execution_count": null,
      "outputs": []
    },
    {
      "cell_type": "code",
      "source": [
        "tabla_isr=[\n",
        "    [0.01,472,0,0],\n",
        "    [472.01,895.24, 0.1,17.67],\n",
        "    [895.25, 2038.1,0.2,60.00],\n",
        "    [2038.11,9999999,0.3,288.57]"
      ],
      "metadata": {
        "id": "Ee1a5alyeqpb"
      },
      "execution_count": null,
      "outputs": []
    },
    {
      "cell_type": "code",
      "source": [
        "def calcularIsr(sueldo,sueldoneto):\n",
        "  impSr=0\n",
        "  for tramo in tabla_isr:\n",
        "    if sueldo>tramo[0] and sueldo<=tramo[1]:\n",
        "      impSr=(sueldoNeto-tramo[0])*tramo[2]+tramo[3]\n",
        "      return impSr"
      ],
      "metadata": {
        "id": "n3vdRpEfgenO"
      },
      "execution_count": null,
      "outputs": []
    },
    {
      "cell_type": "code",
      "source": [
        "valorXhr=4\n",
        "numHrs=float(input(\"Horas trabajadas:\"))\n",
        "s =sueldo (numHrs,valorXhr)\n",
        "isr=calcularIsr(s,s*0.9075)\n",
        "b=4\n",
        "print(\"Sueldo:\",s,\"ISR:\",isr,s*0.9075-isr)"
      ],
      "metadata": {
        "id": "gFKJhsFNiBBH"
      },
      "execution_count": null,
      "outputs": []
    },
    {
      "cell_type": "markdown",
      "source": [
        "Pacial 1"
      ],
      "metadata": {
        "id": "_TFjMH6zT2wt"
      }
    },
    {
      "cell_type": "markdown",
      "source": [
        "Kathia Vanessa Serrrano Portillo USSS167322"
      ],
      "metadata": {
        "id": "EkFs31_kVWm1"
      }
    },
    {
      "cell_type": "markdown",
      "source": [
        "Conversores"
      ],
      "metadata": {
        "id": "5eULeNjoT9Cw"
      }
    },
    {
      "cell_type": "code",
      "source": [
        "def pies_cuadrados_a _varas _cuadradas (pies_cuadrados):\n",
        "  return pies_cuadrados/1.19599\n"
      ],
      "metadata": {
        "id": "w0c315FdVjM4"
      },
      "execution_count": null,
      "outputs": []
    },
    {
      "cell_type": "code",
      "source": [
        "def pies_cuadrados_a _yaras_cuadradas(pies_cuadrados):\n",
        "  return pies_cuadrados/9.0"
      ],
      "metadata": {
        "id": "zuY30AxsgvGR"
      },
      "execution_count": null,
      "outputs": []
    },
    {
      "cell_type": "code",
      "source": [
        "def pies_cuadrados_a_metros_cuadradas(pies_cuadrados):\n",
        "  return pies_cuadrados/10.7639"
      ],
      "metadata": {
        "id": "WqjmTDIahKf9"
      },
      "execution_count": null,
      "outputs": []
    },
    {
      "cell_type": "code",
      "source": [
        "def metros_cuadrados_a_tareas(metros_ cuadrados):\n",
        "  return metros_cuadrados/4046.86"
      ],
      "metadata": {
        "id": "mnpgZ-Tfh2hy"
      },
      "execution_count": null,
      "outputs": []
    },
    {
      "cell_type": "code",
      "source": [
        "def metros_cuadrados_a_manzanas(metros_ cuadrados):\n",
        "  return metros_cuadrados/10000.0"
      ],
      "metadata": {
        "id": "UCIwzxbyinxp"
      },
      "execution_count": null,
      "outputs": []
    },
    {
      "cell_type": "code",
      "source": [
        "def metros_cuadrados_a_hecteras(metros_cuadrados):\n",
        "  return metros_cuadrados/10000.0"
      ],
      "metadata": {
        "id": "naHqgCYpjJjM"
      },
      "execution_count": null,
      "outputs": []
    },
    {
      "cell_type": "code",
      "source": [
        " Menú de opciones\n",
        "while True:\n",
        "    print(\"1. Pies cuadrados a Varas cuadradas\")\n",
        "    print(\"2. Pies cuadrados a Yardas cuadradas\")\n",
        "    print(\"3. Pies cuadrados a Metros cuadrados\")\n",
        "    print(\"4. Metros cuadrados a Tareas\")\n",
        "    print(\"5. Metros cuadrados a Manzanas\")\n",
        "    print(\"6. Metros cuadrados a Hectáreas\")\n",
        "    print(\"7. Salir\")\n",
        "\n",
        "    opcion = int(input(\"Selecciona una opción: \"))\n",
        "\n",
        "    if opcion == 7:\n",
        "        break\n",
        "\n",
        "    valor = float(input(\"Ingresa el valor del área: \"))\n",
        "\n",
        "    if opcion == 1:\n",
        "        resultado = pies_cuadrados_a_varas_cuadradas(valor)\n",
        "        print(f\"{valor} pies cuadrados son {resultado} varas cuadradas\")\n",
        "    elif opcion == 2:\n",
        "        resultado = pies_cuadrados_a_yardas_cuadradas(valor)\n",
        "        print(f\"{valor} pies cuadrados son {resultado} yardas cuadradas\")\n",
        "    elif opcion == 3:\n",
        "        resultado = pies_cuadrados_a_metros_cuadrados(valor)\n",
        "        print(f\"{valor} pies cuadrados son {resultado} metros cuadrados\")\n",
        "    elif opcion == 4:\n",
        "        resultado = metros_cuadrados_a_tareas(valor)\n",
        "        print(f\"{valor} metros cuadrados son {resultado} tareas\")\n",
        "    elif opcion == 5:\n",
        "        resultado = metros_cuadrados_a_manzanas(valor)\n",
        "        print(f\"{valor} metros cuadrados son {resultado} manzanas\")\n",
        "    elif opcion == 6:\n",
        "        resultado = metros_cuadrados_a_hectareas(valor)\n",
        "        print(f\"{valor} metros cuadrados son {resultado} hectáreas\")\n",
        "    else:\n",
        "        print(\"Opción no válida. Por favor, selecciona una opción válida.\")"
      ],
      "metadata": {
        "id": "jpLlE4g2kGlu"
      },
      "execution_count": null,
      "outputs": []
    }
  ]
}